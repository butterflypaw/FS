{
 "cells": [
  {
   "cell_type": "code",
   "execution_count": null,
   "metadata": {
    "vscode": {
     "languageId": "plaintext"
    }
   },
   "outputs": [],
   "source": [
    "### **Problem Statement:**\n",
    "Your task is to build a multi-layer **autoencoder** using **PyTorch** to compress the images into a lower-dimensional representation and then reconstruct them. The model should use the **Adam optimizer** and **Mean Squared Error (MSE) loss**. The goal is to minimize the reconstruction loss and generate an accurate representation of the input data.\n",
    "\n",
    "#### **Steps to Complete the Exercise:**\n",
    "1. **Build the Multi-Layer Autoencoder**:  \n",
    "   - **Encoder**: Multiple dense layers reducing dimensionality.\n",
    "   - **Decoder**: Symmetric layers reconstructing the image.\n",
    "2. **Train the Model**: Use **Mean Squared Error (MSE) loss** and **Adam optimizer** to train the autoencoder.\n"
   ]
  },
  {
   "cell_type": "code",
   "execution_count": null,
   "metadata": {
    "vscode": {
     "languageId": "plaintext"
    }
   },
   "outputs": [],
   "source": [
    "import torch\n",
    "import torch.nn as nn\n",
    "import torch.optim as optim\n",
    "import matplotlib.pyplot as plt"
   ]
  },
  {
   "cell_type": "code",
   "execution_count": null,
   "metadata": {
    "vscode": {
     "languageId": "plaintext"
    }
   },
   "outputs": [],
   "source": [
    "the ANSI diagram for the multi-layer autoencoder\n",
    "    Input Layer (28x28 pixels)  \n",
    "          |\n",
    "      [Flatten Layer] (784)\n",
    "          |\n",
    "      [Dense Layer 512] - Linear, ReLU\n",
    "          |\n",
    "      [Dense Layer 256] - Linear, ReLU\n",
    "          |\n",
    "      [Dense Layer 128] - Linear, ReLU\n",
    "          |\n",
    "      [Dense Layer 64]  <-- Latent Representation (Bottleneck)\n",
    "          |\n",
    "      [Dense Layer 128] - Linear, ReLU\n",
    "          |\n",
    "      [Dense Layer 256] - Linear, ReLU\n",
    "          |\n",
    "      [Dense Layer 512] - Linear, ReLU\n",
    "          |\n",
    "      [Dense Layer 784] - Sigmoid (Reconstructs 28x28 image)\n",
    "          |\n",
    "      [Unflatten Layer] (Reshape to 28x28)\n",
    "          |\n",
    "      Output (Reconstructed Image)\n"
   ]
  },
  {
   "cell_type": "code",
   "execution_count": null,
   "metadata": {
    "vscode": {
     "languageId": "plaintext"
    }
   },
   "outputs": [],
   "source": [
    "### Implement the Autoencoder ###\n",
    "\n",
    "# Define Autoencoder class\n",
    "class Autoencoder(nn.Module):\n",
    "    def __init__(self):\n",
    "        super(Autoencoder, self).__init__()\n",
    "        # Encoder\n",
    "        self.encoder = nn.Sequential(\n",
    "            # YOUR CODE HERE\n",
    "            nn.Flatten(),\n",
    "            nn.ReLU(),\n",
    "            nn.Linear(28 * 28, 512),\n",
    "            nn.ReLU(),\n",
    "            nn.Linear(512, 256),\n",
    "            nn.ReLU(),\n",
    "            nn.Linear(256, 128),\n",
    "            nn.ReLU(),\n",
    "            nn.Linear(128, 64),\n",
    "            nn.ReLU()\n",
    "            #raise NotImplementedError()\n",
    "        )\n",
    "        \n",
    "        # Decoder\n",
    "        self.decoder = nn.Sequential(\n",
    "            # YOUR CODE HERE\n",
    "            nn.Linear(64, 128),\n",
    "            nn.ReLU(),\n",
    "            nn.Linear(128, 256),\n",
    "            nn.ReLU(),\n",
    "            nn.Linear(256, 512),\n",
    "            nn.ReLU(),\n",
    "            nn.Linear(512, 28 * 28),\n",
    "            nn.Sigmoid(),\n",
    "            nn.ReLU(),\n",
    "            nn.Unflatten(dim = 1, unflattened_size = (28, 28))\n",
    "            #raise NotImplementedError()\n",
    "        )\n",
    "    \n",
    "    def forward(self, x):\n",
    "        encoded = self.encoder(x)\n",
    "        decoded = self.decoder(encoded)\n",
    "        return decoded\n"
   ]
  },
  {
   "cell_type": "code",
   "execution_count": null,
   "metadata": {
    "vscode": {
     "languageId": "plaintext"
    }
   },
   "outputs": [],
   "source": [
    "# Define loss function and optimizer\n",
    "student_model = Autoencoder()\n",
    "# initialize the 'criterion' to apply the loss and 'optimizer' for the optimzation.\n",
    "criterion = nn.MSELoss()\n",
    "optimizer = optim.Adam(student_model.parameters(), lr = 0.001)\n",
    "# YOUR CODE HERE\n",
    "#raise NotImplementedError()"
   ]
  },
  {
   "cell_type": "code",
   "execution_count": null,
   "metadata": {
    "vscode": {
     "languageId": "plaintext"
    }
   },
   "outputs": [],
   "source": [
    "# Autoencoder Training Function\n",
    "def check_autoencoder(student_model, optimizer, criterion):\n",
    "    print(\"Running Autoencoder Training and Evaluation...\")\n",
    "    \n",
    "    #device = torch.device(\"cuda\" if torch.cuda.is_available() else \"cpu\")\n",
    "    #student_model.to(device)\n",
    "    student_model.eval()  # Set to evaluation mode\n",
    "    device = next(student_model.parameters()).device  # Get model device\n",
    "    \n",
    "    dummy_data = torch.randn(16, 1, 28, 28).to(device)  # Small batch size to reduce memory\n",
    "    for epoch in range(2):\n",
    "        optimizer.zero_grad()\n",
    "        dummy_data_flat = dummy_data.view(dummy_data.size(0), -1)  # Flatten input\n",
    "        outputs = student_model(dummy_data_flat)\n",
    "        loss = criterion(outputs.view(outputs.size(0), -1), dummy_data_flat)  # Flatten outputs\n",
    "        loss.backward()\n",
    "        optimizer.step()\n",
    "        print(f\"Epoch [{epoch+1}/2], Loss: {loss.item():.4f}\")\n",
    "    \n",
    "    return loss.item(), outputs\n",
    "check_autoencoder(student_model, optimizer, criterion)"
   ]
  }
 ],
 "metadata": {
  "language_info": {
   "name": "python"
  }
 },
 "nbformat": 4,
 "nbformat_minor": 2
}
